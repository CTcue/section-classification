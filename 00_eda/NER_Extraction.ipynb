{
  "nbformat": 4,
  "nbformat_minor": 0,
  "metadata": {
    "colab": {
      "provenance": [],
      "gpuType": "T4"
    },
    "kernelspec": {
      "name": "python3",
      "display_name": "Python 3"
    },
    "language_info": {
      "name": "python"
    },
    "accelerator": "GPU",
    "widgets": {
      "application/vnd.jupyter.widget-state+json": {
        "33f1b91e9e264a7b92ffa1c84580de28": {
          "model_module": "@jupyter-widgets/controls",
          "model_name": "VBoxModel",
          "model_module_version": "1.5.0",
          "state": {
            "_dom_classes": [],
            "_model_module": "@jupyter-widgets/controls",
            "_model_module_version": "1.5.0",
            "_model_name": "VBoxModel",
            "_view_count": null,
            "_view_module": "@jupyter-widgets/controls",
            "_view_module_version": "1.5.0",
            "_view_name": "VBoxView",
            "box_style": "",
            "children": [
              "IPY_MODEL_715614b881d54fe389a35d9bcd6f0e7e"
            ],
            "layout": "IPY_MODEL_c2ddc233322f45139a62df8611006e6a"
          }
        },
        "715614b881d54fe389a35d9bcd6f0e7e": {
          "model_module": "@jupyter-widgets/controls",
          "model_name": "HBoxModel",
          "model_module_version": "1.5.0",
          "state": {
            "_dom_classes": [],
            "_model_module": "@jupyter-widgets/controls",
            "_model_module_version": "1.5.0",
            "_model_name": "HBoxModel",
            "_view_count": null,
            "_view_module": "@jupyter-widgets/controls",
            "_view_module_version": "1.5.0",
            "_view_name": "HBoxView",
            "box_style": "",
            "children": [
              "IPY_MODEL_c0f109933ead4ad1976765818ec0cae4",
              "IPY_MODEL_2bf3bf0553f040c79e72677f4fe0877f"
            ],
            "layout": "IPY_MODEL_4708659232e54f2198446e05d6da87a7"
          }
        },
        "c2ddc233322f45139a62df8611006e6a": {
          "model_module": "@jupyter-widgets/base",
          "model_name": "LayoutModel",
          "model_module_version": "1.2.0",
          "state": {
            "_model_module": "@jupyter-widgets/base",
            "_model_module_version": "1.2.0",
            "_model_name": "LayoutModel",
            "_view_count": null,
            "_view_module": "@jupyter-widgets/base",
            "_view_module_version": "1.2.0",
            "_view_name": "LayoutView",
            "align_content": null,
            "align_items": null,
            "align_self": null,
            "border": null,
            "bottom": null,
            "display": null,
            "flex": null,
            "flex_flow": null,
            "grid_area": null,
            "grid_auto_columns": null,
            "grid_auto_flow": null,
            "grid_auto_rows": null,
            "grid_column": null,
            "grid_gap": null,
            "grid_row": null,
            "grid_template_areas": null,
            "grid_template_columns": null,
            "grid_template_rows": null,
            "height": null,
            "justify_content": null,
            "justify_items": null,
            "left": null,
            "margin": null,
            "max_height": null,
            "max_width": null,
            "min_height": null,
            "min_width": null,
            "object_fit": null,
            "object_position": null,
            "order": null,
            "overflow": null,
            "overflow_x": null,
            "overflow_y": null,
            "padding": null,
            "right": null,
            "top": null,
            "visibility": null,
            "width": null
          }
        },
        "c0f109933ead4ad1976765818ec0cae4": {
          "model_module": "@jupyter-widgets/controls",
          "model_name": "IntProgressModel",
          "model_module_version": "1.5.0",
          "state": {
            "_dom_classes": [],
            "_model_module": "@jupyter-widgets/controls",
            "_model_module_version": "1.5.0",
            "_model_name": "IntProgressModel",
            "_view_count": null,
            "_view_module": "@jupyter-widgets/controls",
            "_view_module_version": "1.5.0",
            "_view_name": "ProgressView",
            "bar_style": "success",
            "description": "100.00%",
            "description_tooltip": null,
            "layout": "IPY_MODEL_a247bc8403864fc79cf82bf4324645b4",
            "max": 908,
            "min": 0,
            "orientation": "horizontal",
            "style": "IPY_MODEL_ac1cf8af00e149b8ac3aaddafb04e299",
            "value": 908
          }
        },
        "2bf3bf0553f040c79e72677f4fe0877f": {
          "model_module": "@jupyter-widgets/controls",
          "model_name": "LabelModel",
          "model_module_version": "1.5.0",
          "state": {
            "_dom_classes": [],
            "_model_module": "@jupyter-widgets/controls",
            "_model_module_version": "1.5.0",
            "_model_name": "LabelModel",
            "_view_count": null,
            "_view_module": "@jupyter-widgets/controls",
            "_view_module_version": "1.5.0",
            "_view_name": "LabelView",
            "description": "",
            "description_tooltip": null,
            "layout": "IPY_MODEL_f4aaaea4a6ae44feaa3fe4b1946a2612",
            "placeholder": "​",
            "style": "IPY_MODEL_c7d7eea1e63449d084f9cd0991ca7738",
            "value": "908 / 908"
          }
        },
        "4708659232e54f2198446e05d6da87a7": {
          "model_module": "@jupyter-widgets/base",
          "model_name": "LayoutModel",
          "model_module_version": "1.2.0",
          "state": {
            "_model_module": "@jupyter-widgets/base",
            "_model_module_version": "1.2.0",
            "_model_name": "LayoutModel",
            "_view_count": null,
            "_view_module": "@jupyter-widgets/base",
            "_view_module_version": "1.2.0",
            "_view_name": "LayoutView",
            "align_content": null,
            "align_items": null,
            "align_self": null,
            "border": null,
            "bottom": null,
            "display": null,
            "flex": null,
            "flex_flow": null,
            "grid_area": null,
            "grid_auto_columns": null,
            "grid_auto_flow": null,
            "grid_auto_rows": null,
            "grid_column": null,
            "grid_gap": null,
            "grid_row": null,
            "grid_template_areas": null,
            "grid_template_columns": null,
            "grid_template_rows": null,
            "height": null,
            "justify_content": null,
            "justify_items": null,
            "left": null,
            "margin": null,
            "max_height": null,
            "max_width": null,
            "min_height": null,
            "min_width": null,
            "object_fit": null,
            "object_position": null,
            "order": null,
            "overflow": null,
            "overflow_x": null,
            "overflow_y": null,
            "padding": null,
            "right": null,
            "top": null,
            "visibility": null,
            "width": null
          }
        },
        "a247bc8403864fc79cf82bf4324645b4": {
          "model_module": "@jupyter-widgets/base",
          "model_name": "LayoutModel",
          "model_module_version": "1.2.0",
          "state": {
            "_model_module": "@jupyter-widgets/base",
            "_model_module_version": "1.2.0",
            "_model_name": "LayoutModel",
            "_view_count": null,
            "_view_module": "@jupyter-widgets/base",
            "_view_module_version": "1.2.0",
            "_view_name": "LayoutView",
            "align_content": null,
            "align_items": null,
            "align_self": null,
            "border": null,
            "bottom": null,
            "display": null,
            "flex": null,
            "flex_flow": null,
            "grid_area": null,
            "grid_auto_columns": null,
            "grid_auto_flow": null,
            "grid_auto_rows": null,
            "grid_column": null,
            "grid_gap": null,
            "grid_row": null,
            "grid_template_areas": null,
            "grid_template_columns": null,
            "grid_template_rows": null,
            "height": null,
            "justify_content": null,
            "justify_items": null,
            "left": null,
            "margin": null,
            "max_height": null,
            "max_width": null,
            "min_height": null,
            "min_width": null,
            "object_fit": null,
            "object_position": null,
            "order": null,
            "overflow": null,
            "overflow_x": null,
            "overflow_y": null,
            "padding": null,
            "right": null,
            "top": null,
            "visibility": null,
            "width": null
          }
        },
        "ac1cf8af00e149b8ac3aaddafb04e299": {
          "model_module": "@jupyter-widgets/controls",
          "model_name": "ProgressStyleModel",
          "model_module_version": "1.5.0",
          "state": {
            "_model_module": "@jupyter-widgets/controls",
            "_model_module_version": "1.5.0",
            "_model_name": "ProgressStyleModel",
            "_view_count": null,
            "_view_module": "@jupyter-widgets/base",
            "_view_module_version": "1.2.0",
            "_view_name": "StyleView",
            "bar_color": null,
            "description_width": ""
          }
        },
        "f4aaaea4a6ae44feaa3fe4b1946a2612": {
          "model_module": "@jupyter-widgets/base",
          "model_name": "LayoutModel",
          "model_module_version": "1.2.0",
          "state": {
            "_model_module": "@jupyter-widgets/base",
            "_model_module_version": "1.2.0",
            "_model_name": "LayoutModel",
            "_view_count": null,
            "_view_module": "@jupyter-widgets/base",
            "_view_module_version": "1.2.0",
            "_view_name": "LayoutView",
            "align_content": null,
            "align_items": null,
            "align_self": null,
            "border": null,
            "bottom": null,
            "display": null,
            "flex": null,
            "flex_flow": null,
            "grid_area": null,
            "grid_auto_columns": null,
            "grid_auto_flow": null,
            "grid_auto_rows": null,
            "grid_column": null,
            "grid_gap": null,
            "grid_row": null,
            "grid_template_areas": null,
            "grid_template_columns": null,
            "grid_template_rows": null,
            "height": null,
            "justify_content": null,
            "justify_items": null,
            "left": null,
            "margin": null,
            "max_height": null,
            "max_width": null,
            "min_height": null,
            "min_width": null,
            "object_fit": null,
            "object_position": null,
            "order": null,
            "overflow": null,
            "overflow_x": null,
            "overflow_y": null,
            "padding": null,
            "right": null,
            "top": null,
            "visibility": null,
            "width": null
          }
        },
        "c7d7eea1e63449d084f9cd0991ca7738": {
          "model_module": "@jupyter-widgets/controls",
          "model_name": "DescriptionStyleModel",
          "model_module_version": "1.5.0",
          "state": {
            "_model_module": "@jupyter-widgets/controls",
            "_model_module_version": "1.5.0",
            "_model_name": "DescriptionStyleModel",
            "_view_count": null,
            "_view_module": "@jupyter-widgets/base",
            "_view_module_version": "1.2.0",
            "_view_name": "StyleView",
            "description_width": ""
          }
        },
        "1d59c17466ce40aea0db2574533a708e": {
          "model_module": "@jupyter-widgets/controls",
          "model_name": "VBoxModel",
          "model_module_version": "1.5.0",
          "state": {
            "_dom_classes": [],
            "_model_module": "@jupyter-widgets/controls",
            "_model_module_version": "1.5.0",
            "_model_name": "VBoxModel",
            "_view_count": null,
            "_view_module": "@jupyter-widgets/controls",
            "_view_module_version": "1.5.0",
            "_view_name": "VBoxView",
            "box_style": "",
            "children": [
              "IPY_MODEL_2ba040ccbfab4b47837129ab11e814f0"
            ],
            "layout": "IPY_MODEL_9eb09f8f801b4663bc1277d01418fe69"
          }
        },
        "2ba040ccbfab4b47837129ab11e814f0": {
          "model_module": "@jupyter-widgets/controls",
          "model_name": "HBoxModel",
          "model_module_version": "1.5.0",
          "state": {
            "_dom_classes": [],
            "_model_module": "@jupyter-widgets/controls",
            "_model_module_version": "1.5.0",
            "_model_name": "HBoxModel",
            "_view_count": null,
            "_view_module": "@jupyter-widgets/controls",
            "_view_module_version": "1.5.0",
            "_view_name": "HBoxView",
            "box_style": "",
            "children": [
              "IPY_MODEL_a46206b9221b408889f78ae516c0bcb7",
              "IPY_MODEL_d1f565771312407bae1ea0f827be9274"
            ],
            "layout": "IPY_MODEL_a22d2165b9f04742a818d2a15aa19484"
          }
        },
        "9eb09f8f801b4663bc1277d01418fe69": {
          "model_module": "@jupyter-widgets/base",
          "model_name": "LayoutModel",
          "model_module_version": "1.2.0",
          "state": {
            "_model_module": "@jupyter-widgets/base",
            "_model_module_version": "1.2.0",
            "_model_name": "LayoutModel",
            "_view_count": null,
            "_view_module": "@jupyter-widgets/base",
            "_view_module_version": "1.2.0",
            "_view_name": "LayoutView",
            "align_content": null,
            "align_items": null,
            "align_self": null,
            "border": null,
            "bottom": null,
            "display": null,
            "flex": null,
            "flex_flow": null,
            "grid_area": null,
            "grid_auto_columns": null,
            "grid_auto_flow": null,
            "grid_auto_rows": null,
            "grid_column": null,
            "grid_gap": null,
            "grid_row": null,
            "grid_template_areas": null,
            "grid_template_columns": null,
            "grid_template_rows": null,
            "height": null,
            "justify_content": null,
            "justify_items": null,
            "left": null,
            "margin": null,
            "max_height": null,
            "max_width": null,
            "min_height": null,
            "min_width": null,
            "object_fit": null,
            "object_position": null,
            "order": null,
            "overflow": null,
            "overflow_x": null,
            "overflow_y": null,
            "padding": null,
            "right": null,
            "top": null,
            "visibility": null,
            "width": null
          }
        },
        "a46206b9221b408889f78ae516c0bcb7": {
          "model_module": "@jupyter-widgets/controls",
          "model_name": "IntProgressModel",
          "model_module_version": "1.5.0",
          "state": {
            "_dom_classes": [],
            "_model_module": "@jupyter-widgets/controls",
            "_model_module_version": "1.5.0",
            "_model_name": "IntProgressModel",
            "_view_count": null,
            "_view_module": "@jupyter-widgets/controls",
            "_view_module_version": "1.5.0",
            "_view_name": "ProgressView",
            "bar_style": "success",
            "description": "100.00%",
            "description_tooltip": null,
            "layout": "IPY_MODEL_dbe8457f21434c84b5564b06ee628b5b",
            "max": 908,
            "min": 0,
            "orientation": "horizontal",
            "style": "IPY_MODEL_d66e33ba702047fbae10d5598ad2ef7a",
            "value": 908
          }
        },
        "d1f565771312407bae1ea0f827be9274": {
          "model_module": "@jupyter-widgets/controls",
          "model_name": "LabelModel",
          "model_module_version": "1.5.0",
          "state": {
            "_dom_classes": [],
            "_model_module": "@jupyter-widgets/controls",
            "_model_module_version": "1.5.0",
            "_model_name": "LabelModel",
            "_view_count": null,
            "_view_module": "@jupyter-widgets/controls",
            "_view_module_version": "1.5.0",
            "_view_name": "LabelView",
            "description": "",
            "description_tooltip": null,
            "layout": "IPY_MODEL_4e176dc4b7b9404d8dc61eb13856f180",
            "placeholder": "​",
            "style": "IPY_MODEL_3903b6c8a10c47a3a90cc69355fba9cf",
            "value": "908 / 908"
          }
        },
        "a22d2165b9f04742a818d2a15aa19484": {
          "model_module": "@jupyter-widgets/base",
          "model_name": "LayoutModel",
          "model_module_version": "1.2.0",
          "state": {
            "_model_module": "@jupyter-widgets/base",
            "_model_module_version": "1.2.0",
            "_model_name": "LayoutModel",
            "_view_count": null,
            "_view_module": "@jupyter-widgets/base",
            "_view_module_version": "1.2.0",
            "_view_name": "LayoutView",
            "align_content": null,
            "align_items": null,
            "align_self": null,
            "border": null,
            "bottom": null,
            "display": null,
            "flex": null,
            "flex_flow": null,
            "grid_area": null,
            "grid_auto_columns": null,
            "grid_auto_flow": null,
            "grid_auto_rows": null,
            "grid_column": null,
            "grid_gap": null,
            "grid_row": null,
            "grid_template_areas": null,
            "grid_template_columns": null,
            "grid_template_rows": null,
            "height": null,
            "justify_content": null,
            "justify_items": null,
            "left": null,
            "margin": null,
            "max_height": null,
            "max_width": null,
            "min_height": null,
            "min_width": null,
            "object_fit": null,
            "object_position": null,
            "order": null,
            "overflow": null,
            "overflow_x": null,
            "overflow_y": null,
            "padding": null,
            "right": null,
            "top": null,
            "visibility": null,
            "width": null
          }
        },
        "dbe8457f21434c84b5564b06ee628b5b": {
          "model_module": "@jupyter-widgets/base",
          "model_name": "LayoutModel",
          "model_module_version": "1.2.0",
          "state": {
            "_model_module": "@jupyter-widgets/base",
            "_model_module_version": "1.2.0",
            "_model_name": "LayoutModel",
            "_view_count": null,
            "_view_module": "@jupyter-widgets/base",
            "_view_module_version": "1.2.0",
            "_view_name": "LayoutView",
            "align_content": null,
            "align_items": null,
            "align_self": null,
            "border": null,
            "bottom": null,
            "display": null,
            "flex": null,
            "flex_flow": null,
            "grid_area": null,
            "grid_auto_columns": null,
            "grid_auto_flow": null,
            "grid_auto_rows": null,
            "grid_column": null,
            "grid_gap": null,
            "grid_row": null,
            "grid_template_areas": null,
            "grid_template_columns": null,
            "grid_template_rows": null,
            "height": null,
            "justify_content": null,
            "justify_items": null,
            "left": null,
            "margin": null,
            "max_height": null,
            "max_width": null,
            "min_height": null,
            "min_width": null,
            "object_fit": null,
            "object_position": null,
            "order": null,
            "overflow": null,
            "overflow_x": null,
            "overflow_y": null,
            "padding": null,
            "right": null,
            "top": null,
            "visibility": null,
            "width": null
          }
        },
        "d66e33ba702047fbae10d5598ad2ef7a": {
          "model_module": "@jupyter-widgets/controls",
          "model_name": "ProgressStyleModel",
          "model_module_version": "1.5.0",
          "state": {
            "_model_module": "@jupyter-widgets/controls",
            "_model_module_version": "1.5.0",
            "_model_name": "ProgressStyleModel",
            "_view_count": null,
            "_view_module": "@jupyter-widgets/base",
            "_view_module_version": "1.2.0",
            "_view_name": "StyleView",
            "bar_color": null,
            "description_width": ""
          }
        },
        "4e176dc4b7b9404d8dc61eb13856f180": {
          "model_module": "@jupyter-widgets/base",
          "model_name": "LayoutModel",
          "model_module_version": "1.2.0",
          "state": {
            "_model_module": "@jupyter-widgets/base",
            "_model_module_version": "1.2.0",
            "_model_name": "LayoutModel",
            "_view_count": null,
            "_view_module": "@jupyter-widgets/base",
            "_view_module_version": "1.2.0",
            "_view_name": "LayoutView",
            "align_content": null,
            "align_items": null,
            "align_self": null,
            "border": null,
            "bottom": null,
            "display": null,
            "flex": null,
            "flex_flow": null,
            "grid_area": null,
            "grid_auto_columns": null,
            "grid_auto_flow": null,
            "grid_auto_rows": null,
            "grid_column": null,
            "grid_gap": null,
            "grid_row": null,
            "grid_template_areas": null,
            "grid_template_columns": null,
            "grid_template_rows": null,
            "height": null,
            "justify_content": null,
            "justify_items": null,
            "left": null,
            "margin": null,
            "max_height": null,
            "max_width": null,
            "min_height": null,
            "min_width": null,
            "object_fit": null,
            "object_position": null,
            "order": null,
            "overflow": null,
            "overflow_x": null,
            "overflow_y": null,
            "padding": null,
            "right": null,
            "top": null,
            "visibility": null,
            "width": null
          }
        },
        "3903b6c8a10c47a3a90cc69355fba9cf": {
          "model_module": "@jupyter-widgets/controls",
          "model_name": "DescriptionStyleModel",
          "model_module_version": "1.5.0",
          "state": {
            "_model_module": "@jupyter-widgets/controls",
            "_model_module_version": "1.5.0",
            "_model_name": "DescriptionStyleModel",
            "_view_count": null,
            "_view_module": "@jupyter-widgets/base",
            "_view_module_version": "1.2.0",
            "_view_name": "StyleView",
            "description_width": ""
          }
        }
      }
    }
  },
  "cells": [
    {
      "cell_type": "markdown",
      "source": [
        "# Installing Dependencies\n",
        "\n"
      ],
      "metadata": {
        "id": "Ra9DFZtfrqsp"
      }
    },
    {
      "cell_type": "code",
      "execution_count": 24,
      "metadata": {
        "colab": {
          "base_uri": "https://localhost:8080/"
        },
        "id": "xxLWK6oLbHmc",
        "outputId": "04c3a9f1-bd0d-4731-af84-4c7c99deb434"
      },
      "outputs": [
        {
          "output_type": "stream",
          "name": "stdout",
          "text": [
            "Requirement already satisfied: transformers in /usr/local/lib/python3.10/dist-packages (4.46.3)\n",
            "Requirement already satisfied: torch in /usr/local/lib/python3.10/dist-packages (2.5.1+cu121)\n",
            "Requirement already satisfied: pandas in /usr/local/lib/python3.10/dist-packages (2.2.2)\n",
            "Requirement already satisfied: datasets in /usr/local/lib/python3.10/dist-packages (3.1.0)\n",
            "Collecting pandarallel\n",
            "  Downloading pandarallel-1.6.5.tar.gz (14 kB)\n",
            "  Preparing metadata (setup.py) ... \u001b[?25l\u001b[?25hdone\n",
            "Requirement already satisfied: filelock in /usr/local/lib/python3.10/dist-packages (from transformers) (3.16.1)\n",
            "Requirement already satisfied: huggingface-hub<1.0,>=0.23.2 in /usr/local/lib/python3.10/dist-packages (from transformers) (0.26.3)\n",
            "Requirement already satisfied: numpy>=1.17 in /usr/local/lib/python3.10/dist-packages (from transformers) (1.26.4)\n",
            "Requirement already satisfied: packaging>=20.0 in /usr/local/lib/python3.10/dist-packages (from transformers) (24.2)\n",
            "Requirement already satisfied: pyyaml>=5.1 in /usr/local/lib/python3.10/dist-packages (from transformers) (6.0.2)\n",
            "Requirement already satisfied: regex!=2019.12.17 in /usr/local/lib/python3.10/dist-packages (from transformers) (2024.9.11)\n",
            "Requirement already satisfied: requests in /usr/local/lib/python3.10/dist-packages (from transformers) (2.32.3)\n",
            "Requirement already satisfied: tokenizers<0.21,>=0.20 in /usr/local/lib/python3.10/dist-packages (from transformers) (0.20.3)\n",
            "Requirement already satisfied: safetensors>=0.4.1 in /usr/local/lib/python3.10/dist-packages (from transformers) (0.4.5)\n",
            "Requirement already satisfied: tqdm>=4.27 in /usr/local/lib/python3.10/dist-packages (from transformers) (4.66.6)\n",
            "Requirement already satisfied: typing-extensions>=4.8.0 in /usr/local/lib/python3.10/dist-packages (from torch) (4.12.2)\n",
            "Requirement already satisfied: networkx in /usr/local/lib/python3.10/dist-packages (from torch) (3.4.2)\n",
            "Requirement already satisfied: jinja2 in /usr/local/lib/python3.10/dist-packages (from torch) (3.1.4)\n",
            "Requirement already satisfied: fsspec in /usr/local/lib/python3.10/dist-packages (from torch) (2024.9.0)\n",
            "Requirement already satisfied: sympy==1.13.1 in /usr/local/lib/python3.10/dist-packages (from torch) (1.13.1)\n",
            "Requirement already satisfied: mpmath<1.4,>=1.1.0 in /usr/local/lib/python3.10/dist-packages (from sympy==1.13.1->torch) (1.3.0)\n",
            "Requirement already satisfied: python-dateutil>=2.8.2 in /usr/local/lib/python3.10/dist-packages (from pandas) (2.8.2)\n",
            "Requirement already satisfied: pytz>=2020.1 in /usr/local/lib/python3.10/dist-packages (from pandas) (2024.2)\n",
            "Requirement already satisfied: tzdata>=2022.7 in /usr/local/lib/python3.10/dist-packages (from pandas) (2024.2)\n",
            "Requirement already satisfied: pyarrow>=15.0.0 in /usr/local/lib/python3.10/dist-packages (from datasets) (17.0.0)\n",
            "Requirement already satisfied: dill<0.3.9,>=0.3.0 in /usr/local/lib/python3.10/dist-packages (from datasets) (0.3.8)\n",
            "Requirement already satisfied: xxhash in /usr/local/lib/python3.10/dist-packages (from datasets) (3.5.0)\n",
            "Requirement already satisfied: multiprocess<0.70.17 in /usr/local/lib/python3.10/dist-packages (from datasets) (0.70.16)\n",
            "Requirement already satisfied: aiohttp in /usr/local/lib/python3.10/dist-packages (from datasets) (3.11.9)\n",
            "Requirement already satisfied: psutil in /usr/local/lib/python3.10/dist-packages (from pandarallel) (5.9.5)\n",
            "Requirement already satisfied: aiohappyeyeballs>=2.3.0 in /usr/local/lib/python3.10/dist-packages (from aiohttp->datasets) (2.4.4)\n",
            "Requirement already satisfied: aiosignal>=1.1.2 in /usr/local/lib/python3.10/dist-packages (from aiohttp->datasets) (1.3.1)\n",
            "Requirement already satisfied: async-timeout<6.0,>=4.0 in /usr/local/lib/python3.10/dist-packages (from aiohttp->datasets) (4.0.3)\n",
            "Requirement already satisfied: attrs>=17.3.0 in /usr/local/lib/python3.10/dist-packages (from aiohttp->datasets) (24.2.0)\n",
            "Requirement already satisfied: frozenlist>=1.1.1 in /usr/local/lib/python3.10/dist-packages (from aiohttp->datasets) (1.5.0)\n",
            "Requirement already satisfied: multidict<7.0,>=4.5 in /usr/local/lib/python3.10/dist-packages (from aiohttp->datasets) (6.1.0)\n",
            "Requirement already satisfied: propcache>=0.2.0 in /usr/local/lib/python3.10/dist-packages (from aiohttp->datasets) (0.2.1)\n",
            "Requirement already satisfied: yarl<2.0,>=1.17.0 in /usr/local/lib/python3.10/dist-packages (from aiohttp->datasets) (1.18.3)\n",
            "Requirement already satisfied: six>=1.5 in /usr/local/lib/python3.10/dist-packages (from python-dateutil>=2.8.2->pandas) (1.16.0)\n",
            "Requirement already satisfied: charset-normalizer<4,>=2 in /usr/local/lib/python3.10/dist-packages (from requests->transformers) (3.4.0)\n",
            "Requirement already satisfied: idna<4,>=2.5 in /usr/local/lib/python3.10/dist-packages (from requests->transformers) (3.10)\n",
            "Requirement already satisfied: urllib3<3,>=1.21.1 in /usr/local/lib/python3.10/dist-packages (from requests->transformers) (2.2.3)\n",
            "Requirement already satisfied: certifi>=2017.4.17 in /usr/local/lib/python3.10/dist-packages (from requests->transformers) (2024.8.30)\n",
            "Requirement already satisfied: MarkupSafe>=2.0 in /usr/local/lib/python3.10/dist-packages (from jinja2->torch) (3.0.2)\n",
            "Building wheels for collected packages: pandarallel\n",
            "  Building wheel for pandarallel (setup.py) ... \u001b[?25l\u001b[?25hdone\n",
            "  Created wheel for pandarallel: filename=pandarallel-1.6.5-py3-none-any.whl size=16674 sha256=c12ab5d5a640d874ed51ab6e017063e636dde47f8f20055c5d54689b58829f26\n",
            "  Stored in directory: /root/.cache/pip/wheels/50/4f/1e/34e057bb868842209f1623f195b74fd7eda229308a7352d47f\n",
            "Successfully built pandarallel\n",
            "Installing collected packages: pandarallel\n",
            "Successfully installed pandarallel-1.6.5\n"
          ]
        }
      ],
      "source": [
        "!pip install transformers torch pandas datasets pandarallel"
      ]
    },
    {
      "cell_type": "markdown",
      "source": [
        "# Model Initialization and Setup"
      ],
      "metadata": {
        "id": "a9ncwRC79wZF"
      }
    },
    {
      "cell_type": "code",
      "source": [
        "import pandas as pd\n",
        "import torch\n",
        "from transformers import AutoTokenizer, AutoModelForTokenClassification\n",
        "\n",
        "# Initialize the tokenizer and model\n",
        "model_name = 'bigbio/bigbio-mtl'\n",
        "tokenizer = AutoTokenizer.from_pretrained(model_name)\n",
        "model = AutoModelForTokenClassification.from_pretrained(model_name)"
      ],
      "metadata": {
        "id": "7UtQoaUNg7wD"
      },
      "execution_count": 25,
      "outputs": []
    },
    {
      "cell_type": "markdown",
      "source": [
        "# Data Loading and Preprocessing"
      ],
      "metadata": {
        "id": "M8kwyaht-Aey"
      }
    },
    {
      "cell_type": "code",
      "source": [
        "from google.colab import drive\n",
        "drive.mount('/content/gdrive')\n",
        "\n",
        "file_path = '/content/gdrive/MyDrive/combined_dataset.json'\n",
        "\n",
        "# Load data from combined_dataset.json\n",
        "import json\n",
        "with open(file_path, 'r', encoding=\"utf-8\") as f:\n",
        "    data = json.load(f)\n",
        "\n",
        "    # Extract note_id, note_text, and segment annotations\n",
        "notes_data = []\n",
        "\n",
        "for note_id, entry in data['annotated_entries'].items():\n",
        "    note_text = entry['note_text']\n",
        "    notes_data.append({'note_text': note_text})\n",
        "\n",
        "# Create a DataFrame\n",
        "df = pd.DataFrame(notes_data)"
      ],
      "metadata": {
        "id": "4eHcCbW6jjwv"
      },
      "execution_count": 28,
      "outputs": []
    },
    {
      "cell_type": "code",
      "source": [
        "print(len(df))"
      ],
      "metadata": {
        "colab": {
          "base_uri": "https://localhost:8080/"
        },
        "id": "qL4lZ_aL1qiZ",
        "outputId": "4c672e3d-c4a1-479b-e43b-64edf690dfdd"
      },
      "execution_count": 29,
      "outputs": [
        {
          "output_type": "stream",
          "name": "stdout",
          "text": [
            "908\n"
          ]
        }
      ]
    },
    {
      "cell_type": "code",
      "source": [
        "print(df.columns)"
      ],
      "metadata": {
        "colab": {
          "base_uri": "https://localhost:8080/"
        },
        "id": "Xb3OJqHIkQc_",
        "outputId": "fec0bd32-0811-4bd2-d9f4-12debbdd6760"
      },
      "execution_count": 30,
      "outputs": [
        {
          "output_type": "stream",
          "name": "stdout",
          "text": [
            "Index(['note_text'], dtype='object')\n"
          ]
        }
      ]
    },
    {
      "cell_type": "markdown",
      "source": [
        "# NER Extraction and Filtering Setup"
      ],
      "metadata": {
        "id": "tnRN1tS7-XyL"
      }
    },
    {
      "cell_type": "code",
      "source": [
        "# Load the semantic types file into a DataFrame\n",
        "semantic_types_df = pd.read_csv(\n",
        "    '/content/gdrive/MyDrive/semantic_types_file.txt',\n",
        "    sep='|',\n",
        "    header=None,\n",
        "    names=['Abbreviation', 'TUI', 'Full_Name']\n",
        ")\n",
        "\n",
        "# Define relevant TUIs\n",
        "relevant_tuis = {\n",
        "    'T116', 'T200', 'T047', 'T060', 'T050', 'T033', 'T037', 'T074',\n",
        "    'T191', 'T046', 'T121', 'T184', 'T061', 'T017', 'T031', 'T022',\n",
        "    'T025', 'T028', 'T044', 'T040', 'T024'\n",
        "}\n",
        "\n",
        "# Filter the DataFrame to include only relevant TUIs\n",
        "relevant_semantic_types_df = semantic_types_df[semantic_types_df['TUI'].isin(relevant_tuis)]\n",
        "\n",
        "# Create a dictionary for TUI to Full Name mapping\n",
        "tui_to_full_name = dict(zip(relevant_semantic_types_df['TUI'], relevant_semantic_types_df['Full_Name']))"
      ],
      "metadata": {
        "id": "4VPwXrTXv6pi"
      },
      "execution_count": 31,
      "outputs": []
    },
    {
      "cell_type": "code",
      "source": [
        "def extract_ner_tags(text):\n",
        "    # Tokenize the input text\n",
        "    inputs = tokenizer(\n",
        "        text.split(),\n",
        "        return_tensors=\"pt\",\n",
        "        truncation=True,\n",
        "        padding='max_length',\n",
        "        max_length=512,\n",
        "        is_split_into_words=True\n",
        "    )\n",
        "    with torch.no_grad():\n",
        "        outputs = model(**inputs)\n",
        "    logits = outputs.logits\n",
        "\n",
        "    # Get the predicted class indices for each token\n",
        "    predicted_token_class_ids = torch.argmax(logits, dim=-1)[0].tolist()\n",
        "    tokens = tokenizer.convert_ids_to_tokens(inputs[\"input_ids\"][0])\n",
        "    word_ids = inputs.word_ids()\n",
        "\n",
        "    # Map tokens to their corresponding words and labels\n",
        "    word_to_labels = {}\n",
        "    for token, word_id, label_id in zip(tokens, word_ids, predicted_token_class_ids):\n",
        "        if word_id is not None:\n",
        "            label = model.config.id2label[label_id]\n",
        "            # Extract the TUI from the label\n",
        "            tui = label.split('-')[-1].strip(')')\n",
        "            # Map the TUI to its full name\n",
        "            full_name = tui_to_full_name.get(tui, tui)\n",
        "            if word_id in word_to_labels:\n",
        "                word_to_labels[word_id].add(full_name)\n",
        "            else:\n",
        "                word_to_labels[word_id] = {full_name}\n",
        "\n",
        "    # Combine words with their corresponding full semantic type names\n",
        "    words = text.split()\n",
        "    word_label_pairs = [(words[word_id], list(labels)) for word_id, labels in word_to_labels.items()]\n",
        "    return word_label_pairs\n"
      ],
      "metadata": {
        "id": "Xave-uHFwgeQ"
      },
      "execution_count": 32,
      "outputs": []
    },
    {
      "cell_type": "code",
      "source": [
        "# Create a set of relevant full semantic type names\n",
        "relevant_full_names = set(tui_to_full_name.values())\n",
        "\n",
        "def filter_relevant_ner_tags(ner_tags):\n",
        "    \"\"\"\n",
        "    Filters NER tags to retain only those with relevant semantic types.\n",
        "\n",
        "    Parameters:\n",
        "    ner_tags (list of tuples): Each tuple contains a word and a list of associated semantic type labels.\n",
        "\n",
        "    Returns:\n",
        "    list of tuples: Filtered list containing only relevant NER tags.\n",
        "    \"\"\"\n",
        "    filtered_tags = []\n",
        "    for word, labels in ner_tags:\n",
        "        # labels is a list of full semantic type names or 'O'\n",
        "        for label in labels:\n",
        "            # If the label is not 'O' and is in our set of relevant semantic type names\n",
        "            if label != 'O' and label in relevant_full_names:\n",
        "                filtered_tags.append((word, labels))\n",
        "                break  # Stop checking other labels for this word as we found a relevant label\n",
        "    return filtered_tags"
      ],
      "metadata": {
        "id": "nHXDqgsbx6PW"
      },
      "execution_count": 33,
      "outputs": []
    },
    {
      "cell_type": "code",
      "source": [
        "# Set the maximum column width to None to display all content without truncation\n",
        "pd.set_option('display.max_colwidth', None)"
      ],
      "metadata": {
        "id": "sZFFIPBNw29Z"
      },
      "execution_count": 34,
      "outputs": []
    },
    {
      "cell_type": "markdown",
      "source": [
        "# Parallel NER Extraction"
      ],
      "metadata": {
        "id": "AIwGYw4T-qrn"
      }
    },
    {
      "cell_type": "code",
      "source": [
        "from pandarallel import pandarallel\n",
        "\n",
        "# Initialize pandarallel with a progress bar\n",
        "pandarallel.initialize(progress_bar=True)\n",
        "\n",
        "# Apply the functions in parallel\n",
        "df['raw_ner_tags'] = df['note_text'].parallel_apply(extract_ner_tags)\n",
        "df['relevant_ner_tags'] = df['raw_ner_tags'].parallel_apply(filter_relevant_ner_tags)"
      ],
      "metadata": {
        "colab": {
          "base_uri": "https://localhost:8080/",
          "height": 116,
          "referenced_widgets": [
            "33f1b91e9e264a7b92ffa1c84580de28",
            "715614b881d54fe389a35d9bcd6f0e7e",
            "c2ddc233322f45139a62df8611006e6a",
            "c0f109933ead4ad1976765818ec0cae4",
            "2bf3bf0553f040c79e72677f4fe0877f",
            "4708659232e54f2198446e05d6da87a7",
            "a247bc8403864fc79cf82bf4324645b4",
            "ac1cf8af00e149b8ac3aaddafb04e299",
            "f4aaaea4a6ae44feaa3fe4b1946a2612",
            "c7d7eea1e63449d084f9cd0991ca7738",
            "1d59c17466ce40aea0db2574533a708e",
            "2ba040ccbfab4b47837129ab11e814f0",
            "9eb09f8f801b4663bc1277d01418fe69",
            "a46206b9221b408889f78ae516c0bcb7",
            "d1f565771312407bae1ea0f827be9274",
            "a22d2165b9f04742a818d2a15aa19484",
            "dbe8457f21434c84b5564b06ee628b5b",
            "d66e33ba702047fbae10d5598ad2ef7a",
            "4e176dc4b7b9404d8dc61eb13856f180",
            "3903b6c8a10c47a3a90cc69355fba9cf"
          ]
        },
        "id": "ZIb80FNK6HmE",
        "outputId": "e3b5f2bb-310c-41a3-da4e-4b9355920ad8"
      },
      "execution_count": 35,
      "outputs": [
        {
          "output_type": "stream",
          "name": "stdout",
          "text": [
            "INFO: Pandarallel will run on 1 workers.\n",
            "INFO: Pandarallel will use Memory file system to transfer data between the main process and workers.\n"
          ]
        },
        {
          "output_type": "display_data",
          "data": {
            "text/plain": [
              "VBox(children=(HBox(children=(IntProgress(value=0, description='0.00%', max=908), Label(value='0 / 908'))),))"
            ],
            "application/vnd.jupyter.widget-view+json": {
              "version_major": 2,
              "version_minor": 0,
              "model_id": "33f1b91e9e264a7b92ffa1c84580de28"
            }
          },
          "metadata": {}
        },
        {
          "output_type": "display_data",
          "data": {
            "text/plain": [
              "VBox(children=(HBox(children=(IntProgress(value=0, description='0.00%', max=908), Label(value='0 / 908'))),))"
            ],
            "application/vnd.jupyter.widget-view+json": {
              "version_major": 2,
              "version_minor": 0,
              "model_id": "1d59c17466ce40aea0db2574533a708e"
            }
          },
          "metadata": {}
        }
      ]
    },
    {
      "cell_type": "code",
      "source": [
        "# Display the DataFrame with both raw and relevant NER tags\n",
        "print(df[['note_text','raw_ner_tags', 'relevant_ner_tags']].head(5))"
      ],
      "metadata": {
        "colab": {
          "base_uri": "https://localhost:8080/"
        },
        "id": "VJGGkMV5_S0v",
        "outputId": "739ad3f4-9ebf-400f-dd13-b9cbf68d32ba"
      },
      "execution_count": 36,
      "outputs": [
        {
          "output_type": "stream",
          "name": "stdout",
          "text": [
            "                                                                                                                                                                                                                                                                                                                                                                                                                                                                                                                                                                                                                                                                                                                                                                                                                                                                                                                                                                                                                                                                                                                                                                                                                                                                                                                                                                                                                                                                                                                                                                                                                                                                                                                                                                                                                                                                                                                                                                                                                                                                                                                                                                                                                                                                                                                                                                                                                                                                                                                                                                                                                                                                                                                                                                                                                                                                                                                                                                                                                                                                                                                                                                                                                                                                                                                                                                                                                                                                                                                                                                                                                                                                                                                                                                                                                                                                                        note_text  \\\n",
            "0                                                                                                                                                                                                                                                                                                                                                                                                                                                                                     En Mayo de 1997, una mujer de 29 años de edad fue intervenida, en otro centro, de un carcinoma de la glándula suprarrenal izquierda clínicamente no funcionante que se manifestó clínicamente como molestias en el flanco izquierdo, poco específicas, en el postparto inmediato; la ecografía y la tomografía axial computerizada abdominales mostraron una masa suprarrenal izquierda de 10 cmts., sólida y con áreas de calcificación y necrosis en su interior, siendo la radiografía de tórax y la gammagrafía ósea normales. En los análisis, presentaba ligero aumento de la cortisoluria (284.5 mcgr./24h.) y de 17-OH-esteroides en orina (12.7 mcg./24h.), sin síntomas de hipercortisolismo sistémico. Se realizó resección completa de la tumoración, con el diagnóstico histológico de carcinoma suprarrenal de 10 x 7 x 5 cmts. (215 grs.) bien encapsulado, aunque con invasión vascular, amplias zonas de necrosis y un índice mitótico de 5.8/50; el estudio histoquímico fue (+) para Vimentina y (-) para Citoqueratina, EMA, Cromogranina y Sm- 100. Se etiquetó como Estadio II y Grado II. Treinta meses después, la paciente presentó en los estudios radiológicos de seguimiento una masa en el lecho de resección previo de 7 cmts., en contacto con el hilio renal izquierdo y técnicamente resecable; se reintervino y se llevó a cabo una resección de la recidiva asociada a nefrectomía izquierda, esplenectomía y pancreatectomía distal (radical completa y con márgenes libres). Posteriormente, recibió tratamiento quimioterápico sistémico adyuvante con 6 ciclos completos de cisplatino (CDDP) y etopósido (VP-16) en régimen adyuvante.\\n Cuatro años y once meses tras el tratamiento inicial, se detecta en el seguimiento radiológico la presencia de varios nódulos hepáticos sugerentes de metástasis. Se sometió de nuevo a cirugía abdominal realizándose, previo control con ecografía hepática intraoperatoria, una bisegmentectomía IV-B y V y una resección limitada del segmento VIII; el análisis de anatomía-patológica informó de la presencia de 7 nódulos (de tamaño variable entre 0.5 y 1.5 cmts.) compatibles con metástasis de carcinoma suprarrenal.\\n Diez meses después, se detecta una nueva recidiva tumoral a nivel subdiafragmático izquierdo (de 6 x 4 cmts. según la TAC) y en la raiz del mesenterio, esta última de 4 x 3 cmts. y localizada a nivel de la salida de la arteria mesentérica superior (AMS). Dada la difícil resecabilidad de la nueva recidiva se decide tratamiento quimioterápico con intención neoadyuvante ( 5 ciclos completos de CDDP y VP-16), decidiéndose por regresión parcial de las lesiones una nueva exploración quirúrgica. Se realizó la resección de las dos masas tumorales, la primera incluyendo el pilar izquierdo del diafragma y una pastilla de 5 cmts. de dicho músculo, y la segunda disecando en su origen el tronco celíaco y la AMS y resecando todo el tejido tumoral entre ambos vasos. La anatomía patológica confirmó la recidiva, estando los bordes de resección no afectos. La evolución postoperatoria fue satisfactoria.\\n La paciente se encuentra, tras 7 años y 3 meses del diagnóstico del tumor primario, libre de enfermedad y con una calidad de vida aceptable, mínimamente limitada por las deposiciones diarreicas secundarias a la denervación simpática celíaca.\\n   \n",
            "1                                                                                                                                                                                                                                                                                                                                                                                                                                                                                                                                                                                                                                                                                                                                                                                                                                                                                                                                                                                                                                                                                                                                                                                                                                                                                                                                                                                                                                                                                                                                                        Varón de 66 años controlado en Consultas Externas por hipertrofia benigna de próstata. Presenta episodios de hematuria monosintomática autolimitada y urinocultivos negativos. En estudio ecográfico se observa ureteropielocaliectasia grado II de riñón derecho y en U.I.V. se objetiva anulación funcional de riñón derecho, motivo por el cuál, se practica nefrostomia percutánea derecha, que confirma el hallazgo urográfico. Ocho meses antes, est:udio ecográfico y U.I.V. sin hallazgos patológicos.\\n \\n Entre sus antecedentes personales cabe destacar: sin alergias conocidas. HTA. Diabetes Mellitus tipo II. Miocardiopatía hipertrófica. Aneurisma carotídeo intracerebral sin secuelas.\\n La exploración física practicada es la siguiente: Abdomen blando y depresible, no doloroso, no megalias, Fosas renales libres indoloras. Genitales externos sin signos patológicos. Tacto rectal compatible con HBP grado I-II. Se llevan a cabo las siguientes EXPLORACIONES COMPLEMENTARIAS:\\n ANALISIS: Glucemia 145 mg/dl, Creatinina 1.4 mg/dl. Resto de parámetros dentro de la normalidad.\\n CITOLOGIA URINARIA: Compatible con carcinoma de células transicionales de bajo grado.\\n PIELOGRAFIA DESCENDENTE a traves de Nefrostomia: Defecto de replección a nivel de uréter sacro-ilíaco derecho de aproximadamente 20 mm de longitud, con signos de infiltración de la pared.\\n \\n ESTUDIO FUNCIONAL DE RIÑON DERECHO: Aclaramiento de Creatinina inferior a 5 ml/minuto.\\n TAC ABDOMINO-PELVICO: Aneurisma de Aorta infrarrenal. Atrofia hidronefrótica de riñón derecho, sin visualizarse imágenes endoluminales intraureterales. Dudosas adenopatías paravesicales.\\n Ante estos hallazgos y la sospecha de tumor de vías de uréter derecho, el paciente es intervenido quirúrgicamente practicándose nefroureterectomía radical derecha con evolución postoperatoria satisfactoria. El dictamen histopatológico de la pieza nos informa de pielonefritis crónica y cambios de arteriosclerosis, así como lesión inflamatoria ureteral que oblitera la luz con infiltrado de linfocitos en capas musculares, erosión de urotelio y presencia de Actinomices. Tras 9 años de seguimiento, el paciente mantiene una función renal aceptable (Creatinina sérica 2.1 mg/dl ) y es controlado por HBP sintomática.\\n   \n",
            "2                                                                                                                                                                                                                                                                                                                                                                                                                                                                                                                                                                                                                                                                                                                                                                                                                                                                                                                                                                                               Mujer de 51 años, monorrena derecha, incluída en programa de hemodiálisis 9 meses previos al trasplante por IRC secundaria a pielonefritis crónica derecha.\\n Antecedentes personales: nefrectomía izquierda por absceso pararrenal secundario a rotura del riñón izquierdo que contenía cálculo coraliforme y ureteroscopia derecha por cálculo en uréter pelviano derecho en febrero de 1990.Hígado graso en control por Servicio de Digestivo, HTA, hipertrigliceridemia, sobrepeso y gota.\\n Trasplante de riñón derecho en fosa ilíaca derecha sin incidencias (también arteria renal doble con parche único y anastomosis vasculares a ilíacas externas, implante de uréter a vejiga tipo Paquin). La paciente presentó en el día +5 del trasplante rechazo agudo siendo tratada con pulses de 6-Metil-Prednisolona (400mg/día, 3 días) y fue dada de alta con niveles de creatinina de 2'3 que progresivamente descenderán y se mantendrán hasta la actualidad entre 0'8-1'1. Al alta la paciente seguía tratamiento inmunosupresor también con ciclosporina 8mg/Kg, micofenolato mofetilo 2gr/día y prednisona 1mg/Kg.\\n En abril de1999, 6 meses después del trasplante, la paciente refiere cuadro de temblor en ambas manos que inicialmente es atribuído a toxicidad de ciclosporina y se comenzó descenso de la pauta de corticoides. Sin embargo, ante el empeoramiento del cuadro, tras un año asintomática, se inició estudio por el Servicio de Neurología. En ese momento, al año y medio del trasplante (marzo de 2000) la paciente presentaba inestabilidad de la marcha, temblores y parestesias en miembros inferiores. En la exploración física se objetivaron moderados signos piramidales en ambas EEII, más acusados en eI izquierdo, sin claro déficit motor; la sensibilidad profunda estaba también levemente alterada. Las pruebas complementarias ayudaron a esclarecer el diagnóstico:\\n En la RMN se observaron 2 lesiones compatibles con mielitis a nivel cervical C2-C4 y dorsal alto D1.\\n Los potenciales evocados demostraron retraso significativo en la latencia del nervio tibial.\\n LCR: leve pleocitosis linfocítica, aumento de la concentración de proteínas y presencia de bandas IgG oligoclonales.\\n Pruebas serológicas, ELISA y Western Blot, resultaron positivas para HTLV-I en LCR y sangre.\\n PCR en sangre positiva también para el virus detectándose también en este caso carga viral elevada.\\n La paciente fue tratada con pulses de 6-Metil-Prednisolona en el momento de agudización del proceso y pauta descendente progresivamente de corticoides. Sin embargo, además de hábito cushingoide, la paciente presenta pérdida de audición progresiva, incontinencia de orina de predominio nocturno que ha mejorado con Tolterodina (pendiente de estudio urodinámico en el momento actual) y evoluciona hacia discreta invalidez.\\n   \n",
            "3  Nuestra paciente es una mujer de 77 años de edad, sin alergias medicamentosas conocidas y con antecedentes patológicos de miocardiopatía dilatada, artrosis, e histerectomía y doble anexectomía junto a quimio y radioterapia por tumoración ginecológica hace 12 años.\\n Acude al Servicio de Urgencias por presentar dolor tipo cólico de ocho días de evolución localizado en fosa lumbar y flanco derechos así como en cara anterior del muslo derecho aumentando con la deambulación. A su vez, el dolor se acompaña de nauseas y vómitos. La paciente presentó picos febriles con sudoración profusa aunque en le momento en el que acude a Urgencias se encuentra afebril y no presenta síndrome miccional.\\n A la exploración presenta: soplo protomesosistólico en ápex, abdomen blando y depresible, doloroso a la palpación en fosa iliaca y flanco derechos. También destaca dolor espontáneo en cara anterior del muslo derecho que aumenta con la presión y con la movilidad de la extremidad.\\n En la analítica de Urgencias destaca leucocitosis con desviación izquierda (17.200 leucocitos con 84% de neutrófilos), 567.000 plaquetas, urea 1.35, creatinina 1.80.\\n Como pruebas de imagen se solicitan Rx. de vías urinarias y ecografía en las que se observa imagen cálcica en silueta renal derecha y ectasia pielocalicial derecha respectivamente.\\n Con el diagnostico de cólico nefrítico derecho complicado se decide ingreso para derivación urinaria y tratamiento antibiótico intravenoso. Se coloca en quirófano catéter externo en uréter derecho con salida de abundante orina limpia.\\n A lo largo de los días el dolor cólico va cediendo aunque la paciente refiere dolor sordo en fosa lumbar y continúa con el dolor en muslo derecho. Es valorada por el servicio de Traumatología pautando tratamiento antiinflamatorio ante la sospecha de rotura fibrilar del cuadriceps.\\n Debido a la persistencia del dolor lumbar se decide revisión ecográfica objetivándose una masa localizada en el músculo psoas derecho de 10 x 5.5 cm. por lo que se solicita un TAC. En la tomografía se confirma la presencia del absceso retroperitoneal en el compartimento del músculo psoas iliaco derecho a nivel de L2-L3 sin perder la continuidad hasta anillo inguinal y sin poder descartar la participación del uréter derecho en su tercio medio.\\n Una vez confirmado el diagnóstico nos ponemos en contacto con el Servicio de Radiología Intervensionista para drenaje percutáneo. Mediante ecografía se coloca catéter 10 fr. evacuando 200 cc. material purulento, del cual se envía muestra microbiológica (en los días sucesivos se confirma la presencia de Bacteriodes fragilis y Streptococcus sanguis). El débito por el drenaje es progresivamente menor y se realiza nuevo estudio con TAC, evidenciándose la disminución del volumen del absceso. Se decide retirar el tubo de drenaje al quinto día de su colocación pero es necesario recolocación de catéter 14 fr. por empeoramiento clínico.\\n Se desconoce la existencia de foco primario por lo que durante el ingreso, se solicita colonoscopia para intentar buscar un origen digestivo del problema. No es posible sobrepasar el ángulo esplénico por lo que no se halla un foco primario. Desde el punto de vista urológico tampoco se justifica la aparición del absceso.\\n Se hace cavitograma para estudiar la morfología y el tamaño del absceso y se indica la realización de lavados con fibrinolíticos intracavitarios (100.000 unidades de urokinasa en 10 cc de suero fisiológico).\\n Después de un mes y diez días de ingreso, la paciente es dada de alta ante la mejoría clínica del cuadro confirmada mediante técnicas de imagen. En los controles posteriores en nuestras consultas, la paciente se encuentra asintomática con resolución total del proceso.\\n \\n   \n",
            "4                                                                                                                                                                                                                                                                                                                                                                                                                                                                                                                                                                                                                                                                                                                                                                                                                                                                                                                                                                                                                                                                                                                                                                                                                                                                                                                                                                                                                                                                                                                                                                                                                                                                                                                                                                                                                                                                                                                                                                                                                                                                                                                                                                                                                   Paciente de 68 años de edad, con antecedentes de obesidad, brucelosis, lumboartrosis, litiasis biliar, apendicectomía y cesárea.\\n En estudio ecográfico de la vía biliar, se objetiva de forma casual, masa de 6 cm. de diámetro en polo superior de riñón derecho. La TAC confirma este hallazgo evidenciándose masa sólida en polo superior de riñón derecho; comprobándose realce de la misma tras la infusión de contraste, no objetivándose adenopatías hiliares, ni afectación de órganos de vecindad. Con el diagnóstico de masa sólida compatible con adenocarcinoma renal es intervenida, realizándose por vía lumbar oblícua nefrectomía radical, siendo el curso postoperatorio sin incidencias.\\n \\n En el estudio microscópico se objetiva tumoración en polo superior que no invade cápsula, su aspecto al corte es homogéneo, de color blancogrisaceo. La pelvis y cálices no están afectados por la tumoración y la vena renal esta libre.\\n En el estudio microscópico se observa tumoración redondeada de márgenes bien definidos, que crece por expansión sin invadir, de naturaleza mesenquimal, compuesta por células dispuestas en fascículos entrelazados, los núcleos presentan ligera variación de tamaño y forma, la actividad mitótica es inferior a 5 mitosis por 50 CGA, no se aprecian hemorragias ni necrosis.\\n \\n En el estudio inmunohistoquímico se objetiva negatividad para queratinas (AE-1,AE-3), EMA (anfígeno epitelial de membrana) con lo que se excluye la naturaleza epitelial del tumor. Negatividad para vimentina, HMB45, S-100. Positividad para marcadores vasculares en la trama vascular y positividad para actino.\\n \\n   \n",
            "\n",
            "                                                                                                                                                                                                                                                                                                                                                                                                                                                                                                                                                                                                                                                                                                                                                                                                                                                                                                                                                                                                                                                                                                                                                                                                                                                                                                                                                                                                                                                                                                                                                                                                                                                                                                                                                                                                                                                                                                                                                                                                                                                                                                                                                                                                                                                                                                                                                                                                                                                                                                                                                                                                                                                                                                                                                                                                                                                                                                                                                                                                                                                                                                                                                                                                                                                                                                                                                                                                                                                                                                                                                                                                                                                                                                                                                                                                                                                                                                                                                                                                                                                                                                                                                                                                                                                                                                                                                                                                                                                                                                                                                                                                                                                                                                                                                                                                                                                                           raw_ner_tags  \\\n",
            "0                                                                                                                                                                                                                                                                                                                                                                                                                                                                                                                                                                                                                   [(En, [linnaeus_filtered_ner:O]), (Mayo, [linnaeus_filtered_ner:O]), (de, [linnaeus_filtered_ner:O]), (1997,, [linnaeus_filtered_ner:O]), (una, [linnaeus_filtered_ner:O]), (mujer, [linnaeus_filtered_ner:O]), (de, [linnaeus_filtered_ner:O]), (29, [linnaeus_filtered_ner:O]), (años, [linnaeus_filtered_ner:O]), (de, [linnaeus_filtered_ner:O]), (edad, [linnaeus_filtered_ner:O]), (fue, [linnaeus_filtered_ner:O]), (intervenida,, [linnaeus_filtered_ner:O, medmentions_full_ner:O]), (en, [linnaeus_filtered_ner:O]), (otro, [linnaeus_filtered_ner:O]), (centro,, [linnaeus_filtered_ner:O, medmentions_full_ner:O]), (de, [linnaeus_filtered_ner:O]), (un, [linnaeus_filtered_ner:O]), (carcinoma, [Neoplastic Process]), (de, [linnaeus_filtered_ner:O]), (la, [linnaeus_filtered_ner:O]), (glándula, [linnaeus_filtered_ner:O]), (suprarrenal, [linnaeus_filtered_ner:O, linnaeus_ner:O]), (izquierda, [linnaeus_filtered_ner:O]), (clínicamente, [linnaeus_filtered_ner:O]), (no, [medmentions_full_ner:O]), (funcionante, [linnaeus_filtered_ner:O, anat_em_ner:O]), (que, [linnaeus_filtered_ner:O]), (se, [linnaeus_filtered_ner:O]), (manifestó, [linnaeus_filtered_ner:O]), (clínicamente, [linnaeus_filtered_ner:O]), (como, [linnaeus_filtered_ner:O]), (molestias, [linnaeus_filtered_ner:O]), (en, [linnaeus_filtered_ner:O]), (el, [linnaeus_filtered_ner:O]), (flanco, [linnaeus_filtered_ner:O]), (izquierdo,, [linnaeus_filtered_ner:O, medmentions_full_ner:O]), (poco, [linnaeus_filtered_ner:O]), (específicas,, [linnaeus_filtered_ner:O, medmentions_full_ner:O]), (en, [linnaeus_filtered_ner:O]), (el, [linnaeus_filtered_ner:O]), (postparto, [linnaeus_filtered_ner:O]), (inmediato;, [linnaeus_filtered_ner:O, medmentions_full_ner:O]), (la, [linnaeus_filtered_ner:O]), (ecografía, [linnaeus_filtered_ner:O]), (y, [linnaeus_filtered_ner:O]), (la, [linnaeus_filtered_ner:O]), (tomografía, [linnaeus_filtered_ner:O, anat_em_ner:O]), (axial, [linnaeus_ner:O]), (computerizada, [linnaeus_filtered_ner:O]), (abdominales, [linnaeus_filtered_ner:O]), (mostraron, [linnaeus_filtered_ner:O]), (una, [linnaeus_filtered_ner:O]), (masa, [linnaeus_filtered_ner:O]), (suprarrenal, [linnaeus_filtered_ner:O]), (izquierda, [linnaeus_filtered_ner:O]), (de, [linnaeus_filtered_ner:O]), (10, [linnaeus_filtered_ner:O]), (cmts.,, [linnaeus_filtered_ner:O, medmentions_full_ner:O]), (sólida, [linnaeus_filtered_ner:O]), (y, [linnaeus_filtered_ner:O]), (con, [linnaeus_filtered_ner:O]), (áreas, [linnaeus_filtered_ner:O]), (de, [linnaeus_filtered_ner:O]), (calcificación, [linnaeus_filtered_ner:O]), (y, [linnaeus_filtered_ner:O]), (necrosis, [linnaeus_filtered_ner:O]), (en, [linnaeus_filtered_ner:O]), (su, [linnaeus_filtered_ner:O]), (interior,, [linnaeus_filtered_ner:O, medmentions_full_ner:O]), (siendo, [linnaeus_filtered_ner:O]), (la, [linnaeus_filtered_ner:O]), (radiografía, [linnaeus_filtered_ner:O]), (de, [linnaeus_filtered_ner:O]), (tórax, [linnaeus_filtered_ner:O]), (y, [linnaeus_filtered_ner:O]), (la, [linnaeus_filtered_ner:O]), (gammagrafía, [linnaeus_filtered_ner:O]), (ósea, [linnaeus_filtered_ner:O]), (normales., [linnaeus_filtered_ner:O, medmentions_full_ner:O]), (En, [linnaeus_filtered_ner:O]), (los, [linnaeus_filtered_ner:O]), (análisis,, [linnaeus_filtered_ner:O, medmentions_full_ner:O]), (presentaba, [linnaeus_filtered_ner:O]), (ligero, [linnaeus_filtered_ner:O]), (aumento, [linnaeus_filtered_ner:O]), (de, [linnaeus_filtered_ner:O]), (la, [linnaeus_filtered_ner:O]), (cortisoluria, [linnaeus_filtered_ner:O, linnaeus_ner:O]), ((284.5, [linnaeus_filtered_ner:O, anat_em_ner:O, medmentions_full_ner:O]), (mcgr./24h.), [linnaeus_filtered_ner:O, anat_em_ner:O, medmentions_full_ner:O]), (y, [linnaeus_filtered_ner:O]), (de, [linnaeus_filtered_ner:O]), (17-OH-esteroides, [spl_adr_200db_train_ner:O, anat_em_ner:O]), (en, [linnaeus_filtered_ner:O]), (orina, [linnaeus_filtered_ner:O]), ((12.7, [linnaeus_filtered_ner:O, anat_em_ner:O, medmentions_full_ner:O]), (mcg./24h.),, [linnaeus_filtered_ner:O, anat_em_ner:O, medmentions_full_ner:O]), (sin, [linnaeus_filtered_ner:O]), (síntomas, [linnaeus_filtered_ner:O]), ...]   \n",
            "1                                                                                                                                                                                                                                                                                                                                                                                                                                                                                                                                                                                                                                                                                                                                                                                                                                                                                                                                                                              [(Varón, [linnaeus_filtered_ner:O]), (de, [linnaeus_filtered_ner:O]), (66, [linnaeus_filtered_ner:O]), (años, [linnaeus_filtered_ner:O]), (controlado, [linnaeus_filtered_ner:O]), (en, [linnaeus_filtered_ner:O]), (Consultas, [linnaeus_filtered_ner:O]), (Externas, [linnaeus_filtered_ner:O]), (por, [linnaeus_filtered_ner:O]), (hipertrofia, [linnaeus_filtered_ner:O]), (benigna, [linnaeus_filtered_ner:O]), (de, [linnaeus_filtered_ner:O]), (próstata., [linnaeus_filtered_ner:O]), (Presenta, [linnaeus_filtered_ner:O]), (episodios, [linnaeus_filtered_ner:O]), (de, [linnaeus_filtered_ner:O]), (hematuria, [Finding]), (monosintomática, [linnaeus_filtered_ner:O]), (autolimitada, [linnaeus_filtered_ner:O]), (y, [linnaeus_filtered_ner:O]), (urinocultivos, [linnaeus_filtered_ner:O]), (negativos., [linnaeus_filtered_ner:O, nlmchem_ner:O]), (En, [linnaeus_filtered_ner:O]), (estudio, [linnaeus_filtered_ner:O]), (ecográfico, [linnaeus_filtered_ner:O]), (se, [linnaeus_filtered_ner:O]), (observa, [linnaeus_filtered_ner:O]), (ureteropielocaliectasia, [linnaeus_filtered_ner:O]), (grado, [linnaeus_filtered_ner:O]), (II, [linnaeus_filtered_ner:O]), (de, [linnaeus_filtered_ner:O]), (riñón, [linnaeus_filtered_ner:O]), (derecho, [linnaeus_filtered_ner:O]), (y, [linnaeus_filtered_ner:O]), (en, [linnaeus_filtered_ner:O]), (U.I.V., [linnaeus_filtered_ner:O]), (se, [linnaeus_filtered_ner:O]), (objetiva, [linnaeus_filtered_ner:O]), (anulación, [linnaeus_filtered_ner:O]), (funcional, [linnaeus_filtered_ner:O]), (de, [linnaeus_filtered_ner:O]), (riñón, [linnaeus_filtered_ner:O]), (derecho,, [linnaeus_filtered_ner:O]), (motivo, [linnaeus_filtered_ner:O]), (por, [linnaeus_filtered_ner:O]), (el, [linnaeus_filtered_ner:O]), (cuál,, [linnaeus_filtered_ner:O]), (se, [linnaeus_filtered_ner:O]), (practica, [linnaeus_filtered_ner:O]), (nefrostomia, [linnaeus_filtered_ner:O]), (percutánea, [linnaeus_filtered_ner:O]), (derecha,, [linnaeus_filtered_ner:O]), (que, [linnaeus_filtered_ner:O]), (confirma, [linnaeus_filtered_ner:O]), (el, [linnaeus_filtered_ner:O]), (hallazgo, [linnaeus_filtered_ner:O]), (urográfico., [linnaeus_filtered_ner:O]), (Ocho, [linnaeus_filtered_ner:O]), (meses, [linnaeus_filtered_ner:O]), (antes,, [linnaeus_filtered_ner:O]), (est:udio, [linnaeus_filtered_ner:O]), (ecográfico, [linnaeus_filtered_ner:O]), (y, [linnaeus_filtered_ner:O]), (U.I.V., [linnaeus_filtered_ner:O]), (sin, [linnaeus_filtered_ner:O]), (hallazgos, [linnaeus_filtered_ner:O]), (patológicos., [linnaeus_filtered_ner:O]), (Entre, [linnaeus_filtered_ner:O]), (sus, [linnaeus_filtered_ner:O]), (antecedentes, [linnaeus_filtered_ner:O]), (personales, [linnaeus_filtered_ner:O]), (cabe, [linnaeus_filtered_ner:O]), (destacar:, [linnaeus_filtered_ner:O]), (sin, [linnaeus_filtered_ner:O]), (alergias, [linnaeus_filtered_ner:O]), (conocidas., [linnaeus_filtered_ner:O]), (HTA., [linnaeus_filtered_ner:O]), (Diabetes, [bionlp_st_2013_cg_ED:O]), (Mellitus, [anat_em_ner:O]), (tipo, [linnaeus_filtered_ner:O]), (II., [linnaeus_filtered_ner:O]), (Miocardiopatía, [linnaeus_filtered_ner:O]), (hipertrófica., [linnaeus_filtered_ner:O]), (Aneurisma, [linnaeus_filtered_ner:O]), (carotídeo, [linnaeus_filtered_ner:O]), (intracerebral, [linnaeus_filtered_ner:O]), (sin, [linnaeus_filtered_ner:O]), (secuelas., [linnaeus_filtered_ner:O]), (La, [linnaeus_filtered_ner:O]), (exploración, [linnaeus_filtered_ner:O]), (física, [linnaeus_filtered_ner:O]), (practicada, [linnaeus_filtered_ner:O]), (es, [linnaeus_filtered_ner:O]), (la, [linnaeus_filtered_ner:O]), (siguiente:, [linnaeus_filtered_ner:O]), (Abdomen, [linnaeus_filtered_ner:O]), (blando, [linnaeus_filtered_ner:O]), (y, [linnaeus_filtered_ner:O]), (depresible,, [linnaeus_filtered_ner:O]), (no, [linnaeus_filtered_ner:O]), ...]   \n",
            "2  [(Mujer, [linnaeus_filtered_ner:O]), (de, [linnaeus_filtered_ner:O]), (51, [linnaeus_filtered_ner:O]), (años,, [linnaeus_filtered_ner:O, spl_adr_200db_train_ner:O, medmentions_full_ner:O]), (monorrena, [linnaeus_filtered_ner:O, spl_adr_200db_train_ner:O]), (derecha,, [linnaeus_filtered_ner:O, spl_adr_200db_train_ner:O, medmentions_full_ner:O]), (incluída, [linnaeus_filtered_ner:O, spl_adr_200db_train_ner:O]), (en, [linnaeus_filtered_ner:O]), (programa, [linnaeus_filtered_ner:O, spl_adr_200db_train_ner:O]), (de, [linnaeus_filtered_ner:O]), (hemodiálisis, [linnaeus_filtered_ner:O, spl_adr_200db_train_ner:O]), (9, [linnaeus_filtered_ner:O]), (meses, [linnaeus_filtered_ner:O, spl_adr_200db_train_ner:O]), (previos, [linnaeus_filtered_ner:O]), (al, [linnaeus_filtered_ner:O]), (trasplante, [linnaeus_filtered_ner:O, spl_adr_200db_train_ner:O]), (por, [linnaeus_filtered_ner:O]), (IRC, [linnaeus_filtered_ner:O, spl_adr_200db_train_ner:O]), (secundaria, [linnaeus_filtered_ner:O, spl_adr_200db_train_ner:O]), (a, [medmentions_full_ner:O]), (pielonefritis, [linnaeus_filtered_ner:O, spl_adr_200db_train_ner:O]), (crónica, [linnaeus_filtered_ner:O, spl_adr_200db_train_ner:O]), (derecha., [linnaeus_filtered_ner:O, spl_adr_200db_train_ner:O, linnaeus_ner:O]), (Antecedentes, [linnaeus_filtered_ner:O]), (personales:, [linnaeus_filtered_ner:O, spl_adr_200db_train_ner:O, medmentions_full_ner:O]), (nefrectomía, [linnaeus_filtered_ner:O, spl_adr_200db_train_ner:O]), (izquierda, [linnaeus_filtered_ner:O, spl_adr_200db_train_ner:O]), (por, [linnaeus_filtered_ner:O]), (absceso, [linnaeus_filtered_ner:O]), (pararrenal, [linnaeus_filtered_ner:O]), (secundario, [linnaeus_filtered_ner:O]), (a, [linnaeus_filtered_ner:O]), (rotura, [linnaeus_filtered_ner:O]), (del, [linnaeus_filtered_ner:O]), (riñón, [linnaeus_filtered_ner:O]), (izquierdo, [linnaeus_filtered_ner:O]), (que, [linnaeus_filtered_ner:O]), (contenía, [linnaeus_filtered_ner:O, spl_adr_200db_train_ner:O]), (cálculo, [linnaeus_filtered_ner:O, spl_adr_200db_train_ner:O]), (coraliforme, [linnaeus_filtered_ner:O]), (y, [linnaeus_filtered_ner:O]), (ureteroscopia, [linnaeus_filtered_ner:O]), (derecha, [linnaeus_filtered_ner:O, spl_adr_200db_train_ner:O]), (por, [linnaeus_filtered_ner:O]), (cálculo, [linnaeus_filtered_ner:O]), (en, [linnaeus_filtered_ner:O]), (uréter, [linnaeus_filtered_ner:O]), (pelviano, [linnaeus_filtered_ner:O]), (derecho, [linnaeus_filtered_ner:O]), (en, [linnaeus_filtered_ner:O]), (febrero, [linnaeus_filtered_ner:O]), (de, [linnaeus_filtered_ner:O]), (1990.Hígado, [linnaeus_filtered_ner:O, medmentions_full_ner:O]), (graso, [linnaeus_filtered_ner:O]), (en, [linnaeus_filtered_ner:O]), (control, [linnaeus_filtered_ner:O]), (por, [linnaeus_filtered_ner:O]), (Servicio, [linnaeus_filtered_ner:O]), (de, [linnaeus_filtered_ner:O]), (Digestivo,, [linnaeus_filtered_ner:O, medmentions_full_ner:O]), (HTA,, [linnaeus_filtered_ner:O, medmentions_full_ner:O]), (hipertrigliceridemia,, [linnaeus_filtered_ner:O, spl_adr_200db_train_ner:O, medmentions_full_ner:O]), (sobrepeso, [linnaeus_filtered_ner:O]), (y, [linnaeus_filtered_ner:O]), (gota., [linnaeus_filtered_ner:O, medmentions_full_ner:O]), (Trasplante, [linnaeus_filtered_ner:O]), (de, [linnaeus_filtered_ner:O]), (riñón, [linnaeus_filtered_ner:O]), (derecho, [linnaeus_filtered_ner:O]), (en, [linnaeus_filtered_ner:O]), (fosa, [linnaeus_filtered_ner:O]), (ilíaca, [linnaeus_filtered_ner:O]), (derecha, [linnaeus_filtered_ner:O]), (sin, [linnaeus_filtered_ner:O]), (incidencias, [linnaeus_filtered_ner:O]), ((también, [linnaeus_filtered_ner:O, spl_adr_200db_train_ner:O, medmentions_full_ner:O]), (arteria, [linnaeus_filtered_ner:O]), (renal, [linnaeus_filtered_ner:O]), (doble, [linnaeus_filtered_ner:O]), (con, [linnaeus_filtered_ner:O]), (parche, [linnaeus_filtered_ner:O]), (único, [linnaeus_filtered_ner:O]), (y, [linnaeus_filtered_ner:O]), (anastomosis, [linnaeus_filtered_ner:O]), (vasculares, [linnaeus_filtered_ner:O]), (a, [linnaeus_filtered_ner:O]), (ilíacas, [linnaeus_filtered_ner:O, spl_adr_200db_train_ner:O]), (externas,, [linnaeus_filtered_ner:O, spl_adr_200db_train_ner:O, medmentions_full_ner:O]), (implante, [linnaeus_filtered_ner:O, spl_adr_200db_train_ner:O]), (de, [linnaeus_filtered_ner:O]), (uréter, [linnaeus_filtered_ner:O]), (a, [linnaeus_filtered_ner:O]), (vejiga, [linnaeus_filtered_ner:O, spl_adr_200db_train_ner:O]), (tipo, [spl_adr_200db_train_ner:O]), (Paquin)., [linnaeus_filtered_ner:O, spl_adr_200db_train_ner:O, medmentions_full_ner:O]), (La, [linnaeus_filtered_ner:O]), (paciente, [linnaeus_filtered_ner:O]), (presentó, [linnaeus_filtered_ner:O]), (en, [linnaeus_filtered_ner:O]), (el, [linnaeus_filtered_ner:O]), ...]   \n",
            "3                                                                                                                                                                                                                                                                                                                                                                                                                                                                                                                              [(Nuestra, [linnaeus_filtered_ner:O]), (paciente, [linnaeus_filtered_ner:O]), (es, [linnaeus_filtered_ner:O]), (una, [linnaeus_filtered_ner:O, spl_adr_200db_train_ner:O]), (mujer, [linnaeus_filtered_ner:O, spl_adr_200db_train_ner:O, linnaeus_ner:O]), (de, [linnaeus_filtered_ner:O]), (77, [linnaeus_filtered_ner:O]), (años, [linnaeus_filtered_ner:O, spl_adr_200db_train_ner:O]), (de, [linnaeus_filtered_ner:O]), (edad,, [linnaeus_filtered_ner:O, medmentions_full_ner:O]), (sin, [linnaeus_filtered_ner:O]), (alergias, [linnaeus_filtered_ner:O, spl_adr_200db_train_ner:O, anat_em_ner:O]), (medicamentosas, [linnaeus_filtered_ner:O, spl_adr_200db_train_ner:O, anat_em_ner:O]), (conocidas, [linnaeus_filtered_ner:O, spl_adr_200db_train_ner:O, anat_em_ner:O]), (y, [linnaeus_filtered_ner:O]), (con, [linnaeus_filtered_ner:O]), (antecedentes, [linnaeus_filtered_ner:O]), (patológicos, [linnaeus_filtered_ner:O, spl_adr_200db_train_ner:O]), (de, [anat_em_ner:O]), (miocardiopatía, [spl_adr_200db_train_ner:O, linnaeus_ner:O]), (dilatada,, [linnaeus_filtered_ner:O, anat_em_ner:O, medmentions_full_ner:O]), (artrosis,, [linnaeus_filtered_ner:O, medmentions_full_ner:O]), (e, [linnaeus_filtered_ner:O]), (histerectomía, [linnaeus_filtered_ner:O, anat_em_ner:O]), (y, [linnaeus_filtered_ner:O]), (doble, [linnaeus_filtered_ner:O]), (anexectomía, [linnaeus_filtered_ner:O]), (junto, [linnaeus_filtered_ner:O]), (a, [medmentions_full_ner:O]), (quimio, [linnaeus_filtered_ner:O]), (y, [medmentions_full_ner:O]), (radioterapia, [linnaeus_filtered_ner:O, spl_adr_200db_train_ner:O, anat_em_ner:O]), (por, [linnaeus_filtered_ner:O]), (tumoración, [linnaeus_filtered_ner:O]), (ginecológica, [linnaeus_filtered_ner:O]), (hace, [linnaeus_filtered_ner:O, linnaeus_ner:O]), (12, [linnaeus_filtered_ner:O]), (años., [linnaeus_filtered_ner:O, spl_adr_200db_train_ner:O]), (Acude, [linnaeus_filtered_ner:O]), (al, [linnaeus_filtered_ner:O]), (Servicio, [linnaeus_filtered_ner:O]), (de, [linnaeus_filtered_ner:O]), (Urgencias, [linnaeus_filtered_ner:O, anat_em_ner:O]), (por, [linnaeus_filtered_ner:O]), (presentar, [linnaeus_filtered_ner:O]), (dolor, [linnaeus_filtered_ner:O]), (tipo, [linnaeus_filtered_ner:O]), (cólico, [linnaeus_filtered_ner:O]), (de, [linnaeus_filtered_ner:O]), (ocho, [linnaeus_filtered_ner:O]), (días, [linnaeus_filtered_ner:O]), (de, [linnaeus_filtered_ner:O]), (evolución, [linnaeus_filtered_ner:O]), (localizado, [linnaeus_filtered_ner:O]), (en, [linnaeus_filtered_ner:O]), (fosa, [linnaeus_filtered_ner:O]), (lumbar, [linnaeus_ner:O]), (y, [linnaeus_filtered_ner:O]), (flanco, [linnaeus_filtered_ner:O]), (derechos, [linnaeus_filtered_ner:O]), (así, [linnaeus_filtered_ner:O]), (como, [linnaeus_filtered_ner:O]), (en, [linnaeus_filtered_ner:O]), (cara, [linnaeus_filtered_ner:O]), (anterior, [linnaeus_filtered_ner:O]), (del, [linnaeus_filtered_ner:O]), (muslo, [linnaeus_filtered_ner:O]), (derecho, [linnaeus_filtered_ner:O]), (aumentando, [linnaeus_filtered_ner:O]), (con, [linnaeus_filtered_ner:O]), (la, [linnaeus_filtered_ner:O]), (deambulación., [linnaeus_filtered_ner:O, medmentions_full_ner:O]), (A, [linnaeus_filtered_ner:O]), (su, [linnaeus_filtered_ner:O]), (vez,, [linnaeus_filtered_ner:O, medmentions_full_ner:O]), (el, [linnaeus_filtered_ner:O]), (dolor, [linnaeus_filtered_ner:O]), (se, [linnaeus_filtered_ner:O]), (acompaña, [linnaeus_filtered_ner:O]), (de, [linnaeus_filtered_ner:O]), (nauseas, [linnaeus_filtered_ner:O, Sign or Symptom]), (y, [linnaeus_filtered_ner:O]), (vómitos., [linnaeus_filtered_ner:O, medmentions_full_ner:O, linnaeus_ner:O]), (La, [linnaeus_filtered_ner:O]), (paciente, [linnaeus_filtered_ner:O]), (presentó, [linnaeus_filtered_ner:O]), (picos, [linnaeus_filtered_ner:O]), (febriles, [linnaeus_filtered_ner:O]), (con, [linnaeus_filtered_ner:O]), (sudoración, [linnaeus_filtered_ner:O]), (profusa, [linnaeus_filtered_ner:O]), (aunque, [linnaeus_filtered_ner:O]), (en, [linnaeus_filtered_ner:O]), (le, [linnaeus_filtered_ner:O]), (momento, [linnaeus_filtered_ner:O]), (en, [linnaeus_filtered_ner:O]), (el, [linnaeus_filtered_ner:O]), (que, [linnaeus_filtered_ner:O]), (acude, [linnaeus_filtered_ner:O]), (a, [linnaeus_filtered_ner:O]), ...]   \n",
            "4                                                                                                                                                                                                                                                                                                                                                                                                                                                                                  [(Paciente, [linnaeus_filtered_ner:O]), (de, [linnaeus_filtered_ner:O]), (68, [linnaeus_filtered_ner:O]), (años, [linnaeus_filtered_ner:O]), (de, [linnaeus_filtered_ner:O]), (edad,, [linnaeus_filtered_ner:O, medmentions_full_ner:O, linnaeus_ner:O]), (con, [linnaeus_filtered_ner:O]), (antecedentes, [linnaeus_filtered_ner:O, anat_em_ner:O]), (de, [anat_em_ner:O]), (obesidad,, [linnaeus_filtered_ner:O, anat_em_ner:O, medmentions_full_ner:O]), (brucelosis,, [linnaeus_filtered_ner:O, medmentions_full_ner:O]), (lumboartrosis,, [linnaeus_filtered_ner:O, Condition, medmentions_full_ner:O, linnaeus_ner:O]), (litiasis, [linnaeus_filtered_ner:O, linnaeus_ner:O]), (biliar,, [linnaeus_filtered_ner:O, medmentions_full_ner:O]), (apendicectomía, [linnaeus_filtered_ner:O, anat_em_ner:O]), (y, [anat_em_ner:O]), (cesárea., [linnaeus_filtered_ner:O, anat_em_ner:O]), (En, [linnaeus_filtered_ner:O]), (estudio, [linnaeus_filtered_ner:O]), (ecográfico, [linnaeus_filtered_ner:O]), (de, [anat_em_ner:O]), (la, [linnaeus_ner:O]), (vía, [linnaeus_filtered_ner:O]), (biliar,, [linnaeus_filtered_ner:O, medmentions_full_ner:O, linnaeus_ner:O]), (se, [linnaeus_filtered_ner:O]), (objetiva, [linnaeus_filtered_ner:O]), (de, [linnaeus_filtered_ner:O]), (forma, [linnaeus_filtered_ner:O]), (casual,, [linnaeus_filtered_ner:O, medmentions_full_ner:O]), (masa, [linnaeus_filtered_ner:O]), (de, [linnaeus_filtered_ner:O]), (6, [linnaeus_filtered_ner:O]), (cm., [linnaeus_filtered_ner:O, medmentions_full_ner:O]), (de, [linnaeus_filtered_ner:O]), (diámetro, [linnaeus_filtered_ner:O]), (en, [linnaeus_filtered_ner:O]), (polo, [linnaeus_filtered_ner:O]), (superior, [linnaeus_filtered_ner:O]), (de, [linnaeus_filtered_ner:O]), (riñón, [linnaeus_filtered_ner:O]), (derecho., [linnaeus_filtered_ner:O, anat_em_ner:O, linnaeus_ner:O]), (La, [linnaeus_filtered_ner:O]), (TAC, [linnaeus_filtered_ner:O]), (confirma, [linnaeus_filtered_ner:O]), (este, [linnaeus_filtered_ner:O]), (hallazgo, [linnaeus_filtered_ner:O, linnaeus_ner:O]), (evidenciándose, [linnaeus_filtered_ner:O]), (masa, [linnaeus_filtered_ner:O, anat_em_ner:O]), (sólida, [linnaeus_filtered_ner:O]), (en, [linnaeus_filtered_ner:O]), (polo, [linnaeus_filtered_ner:O]), (superior, [linnaeus_filtered_ner:O]), (de, [linnaeus_filtered_ner:O]), (riñón, [linnaeus_filtered_ner:O]), (derecho;, [linnaeus_filtered_ner:O, medmentions_full_ner:O]), (comprobándose, [linnaeus_filtered_ner:O]), (realce, [linnaeus_filtered_ner:O]), (de, [linnaeus_filtered_ner:O]), (la, [linnaeus_filtered_ner:O]), (misma, [linnaeus_filtered_ner:O]), (tras, [linnaeus_filtered_ner:O]), (la, [linnaeus_filtered_ner:O]), (infusión, [linnaeus_filtered_ner:O]), (de, [linnaeus_filtered_ner:O]), (contraste,, [linnaeus_filtered_ner:O, medmentions_full_ner:O]), (no, [linnaeus_filtered_ner:O]), (objetivándose, [linnaeus_filtered_ner:O]), (adenopatías, [linnaeus_filtered_ner:O, linnaeus_ner:O]), (hiliares,, [linnaeus_filtered_ner:O, anat_em_ner:O, linnaeus_ner:O]), (ni, [linnaeus_filtered_ner:O]), (afectación, [linnaeus_filtered_ner:O]), (de, [linnaeus_filtered_ner:O]), (órganos, [linnaeus_filtered_ner:O]), (de, [linnaeus_filtered_ner:O]), (vecindad., [linnaeus_filtered_ner:O, medmentions_full_ner:O]), (Con, [linnaeus_filtered_ner:O]), (el, [linnaeus_filtered_ner:O]), (diagnóstico, [linnaeus_filtered_ner:O]), (de, [linnaeus_filtered_ner:O]), (masa, [linnaeus_filtered_ner:O]), (sólida, [linnaeus_filtered_ner:O]), (compatible, [linnaeus_filtered_ner:O]), (con, [linnaeus_filtered_ner:O]), (adenocarcinoma, [Neoplastic Process]), (renal, [linnaeus_filtered_ner:O]), (es, [linnaeus_filtered_ner:O]), (intervenida,, [linnaeus_filtered_ner:O, anat_em_ner:O, linnaeus_ner:O]), (realizándose, [linnaeus_filtered_ner:O]), (por, [linnaeus_filtered_ner:O]), (vía, [medmentions_full_ner:O]), (lumbar, [linnaeus_ner:O]), (oblícua, [linnaeus_filtered_ner:O, linnaeus_ner:O]), (nefrectomía, [linnaeus_filtered_ner:O]), (radical,, [linnaeus_filtered_ner:O, medmentions_full_ner:O]), (siendo, [linnaeus_filtered_ner:O]), (el, [linnaeus_filtered_ner:O]), (curso, [linnaeus_filtered_ner:O, anat_em_ner:O]), (postoperatorio, [linnaeus_filtered_ner:O]), (sin, [linnaeus_filtered_ner:O]), (incidencias., [linnaeus_filtered_ner:O]), ...]   \n",
            "\n",
            "                                             relevant_ner_tags  \n",
            "0                          [(carcinoma, [Neoplastic Process])]  \n",
            "1  [(hematuria, [Finding]), (carcinoma, [Neoplastic Process])]  \n",
            "2                                                           []  \n",
            "3      [(nauseas, [linnaeus_filtered_ner:O, Sign or Symptom])]  \n",
            "4                     [(adenocarcinoma, [Neoplastic Process])]  \n"
          ]
        }
      ]
    },
    {
      "cell_type": "code",
      "source": [
        "# Save the DataFrame to a CSV file\n",
        "output_file_csv = \"ner_results.csv\"\n",
        "df.to_csv(output_file_csv, index=False)\n",
        "\n",
        "print(f\"DataFrame saved as {output_file_csv}\")"
      ],
      "metadata": {
        "colab": {
          "base_uri": "https://localhost:8080/"
        },
        "id": "l0sUUT_z6xi0",
        "outputId": "e216fb3f-20e8-43a3-8e90-d7fa382c4510"
      },
      "execution_count": 37,
      "outputs": [
        {
          "output_type": "stream",
          "name": "stdout",
          "text": [
            "DataFrame saved as ner_results.csv\n"
          ]
        }
      ]
    },
    {
      "cell_type": "code",
      "source": [],
      "metadata": {
        "id": "LznaZm-OAm77"
      },
      "execution_count": null,
      "outputs": []
    }
  ]
}